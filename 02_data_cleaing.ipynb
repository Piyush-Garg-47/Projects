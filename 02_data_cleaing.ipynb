{
 "cells": [
  {
   "cell_type": "code",
   "execution_count": 3,
   "id": "48cd7049-8b02-4492-88a3-edf665fde976",
   "metadata": {},
   "outputs": [
    {
     "name": "stdout",
     "output_type": "stream",
     "text": [
      "data has been cleaned  succesfully\n"
     ]
    }
   ],
   "source": [
    "import json\n",
    "\n",
    "def clean_data(data):\n",
    "    #remove users with missing names \n",
    "    data[\"users\"] = [user for user in data[\"users\"] if user[\"name\"].strip()]\n",
    "    #remove duplicate friend \n",
    "    for user in data[\"users\"]:\n",
    "        user['friends'] = list(set(user['friends']))\n",
    "    #remove inactive users \n",
    "    data['users'] = [user for user in data ['users'] if user['friends'] or user['liked_pages']]\n",
    "\n",
    "    #remove duplicate pages \n",
    "    unique_pages = {}\n",
    "    for page in data['pages']:\n",
    "        unique_pages[page['id']] = page\n",
    "    data['pages'] = list(unique_pages.values())    \n",
    "    return data\n",
    "\n",
    "# Load the data\n",
    "\n",
    "data = json.load(open(\"data.json\"))\n",
    "data = clean_data(data)\n",
    "json.dump(data , open(\"clened_data.json\" , \"w\") , indent = 4 )\n",
    "print(\"data has been cleaned  succesfully\" )"
   ]
  },
  {
   "cell_type": "code",
   "execution_count": null,
   "id": "3dbdfccd-3cee-4005-8576-5b13a177621f",
   "metadata": {},
   "outputs": [],
   "source": []
  }
 ],
 "metadata": {
  "kernelspec": {
   "display_name": "Python [conda env:base] *",
   "language": "python",
   "name": "conda-base-py"
  },
  "language_info": {
   "codemirror_mode": {
    "name": "ipython",
    "version": 3
   },
   "file_extension": ".py",
   "mimetype": "text/x-python",
   "name": "python",
   "nbconvert_exporter": "python",
   "pygments_lexer": "ipython3",
   "version": "3.13.5"
  }
 },
 "nbformat": 4,
 "nbformat_minor": 5
}
