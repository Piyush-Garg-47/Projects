{
 "cells": [
  {
   "cell_type": "code",
   "execution_count": 8,
   "id": "5c07efb2-faaa-4d70-b97e-c810b93b7dd8",
   "metadata": {},
   "outputs": [
    {
     "name": "stdout",
     "output_type": "stream",
     "text": [
      "[102, 104]\n"
     ]
    }
   ],
   "source": [
    "import json \n",
    "\n",
    "def load_data(fileName):\n",
    "    with open(fileName , \"r\") as f:\n",
    "        return json.load(f)\n",
    "\n",
    "#function to fins pages the people might like \n",
    "\n",
    "def find_pages_you_might_like(user_id , data):\n",
    "    #dictionary t store user Interection with pages \n",
    "    user_pages = {}\n",
    "    #populate the dictionary \n",
    "    for user in data['users']:\n",
    "        user_pages[user['id']] = set(user['liked_pages'])\n",
    "\n",
    "    #if the user is not found \n",
    "    if user_id not in user_pages:\n",
    "        return []\n",
    "    user_liked_pages  = user_pages[user_id]\n",
    "    page_suggestion = {}\n",
    "\n",
    "    for other_user , pages in user_pages.items():\n",
    "        if other_user != user_id:\n",
    "            sared_pages = user_liked_pages.intersection(pages)\n",
    "        for page in pages:\n",
    "            if page not in user_liked_pages:\n",
    "                page_suggestion[page] = page_suggestion.get('get', 0 ) + len(sared_pages)\n",
    "    sorted_pages = sorted(page_suggestion.items() , key = lambda x:x[1] , reverse = True)\n",
    "    return [page_id for page_id , _ in sorted_pages]\n",
    "\n",
    "data = load_data(\"clened_data.json\")\n",
    "user_id = 1 \n",
    "page_recommendation = find_pages_you_might_like(user_id , data)\n",
    "print(page_recommendation)\n",
    "        "
   ]
  },
  {
   "cell_type": "code",
   "execution_count": null,
   "id": "547e8949-6252-432d-be36-5e1ed9131cda",
   "metadata": {},
   "outputs": [],
   "source": []
  },
  {
   "cell_type": "code",
   "execution_count": null,
   "id": "e7b5575e-a024-406c-a64e-4cdf2a755261",
   "metadata": {},
   "outputs": [],
   "source": []
  }
 ],
 "metadata": {
  "kernelspec": {
   "display_name": "Python [conda env:base] *",
   "language": "python",
   "name": "conda-base-py"
  },
  "language_info": {
   "codemirror_mode": {
    "name": "ipython",
    "version": 3
   },
   "file_extension": ".py",
   "mimetype": "text/x-python",
   "name": "python",
   "nbconvert_exporter": "python",
   "pygments_lexer": "ipython3",
   "version": "3.13.5"
  }
 },
 "nbformat": 4,
 "nbformat_minor": 5
}
